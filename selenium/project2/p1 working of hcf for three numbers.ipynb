{
 "cells": [
  {
   "cell_type": "code",
   "execution_count": 1,
   "id": "6acc7565-0877-4540-be72-c248d3b603b6",
   "metadata": {},
   "outputs": [],
   "source": [
    "from selenium import webdriver  \n",
    "import time  \n",
    "from selenium.webdriver.common.keys import Keys  \n",
    "\n",
    "driver = webdriver.Firefox()  \n",
    "\n",
    "driver.get('https://survival8.blogspot.com/2022/11/working-of-hcf-of-three-numbers-using.html')"
   ]
  },
  {
   "cell_type": "code",
   "execution_count": 2,
   "id": "26eb4cc8-170c-4997-a132-6a1e9b461225",
   "metadata": {},
   "outputs": [],
   "source": [
    "customA = driver.find_element(\"id\", \"customA\")\n",
    "customB = driver.find_element(\"id\", \"customB\")\n",
    "customC = driver.find_element(\"id\", \"customC\")"
   ]
  },
  {
   "cell_type": "code",
   "execution_count": 3,
   "id": "a30f6204-78cf-48a6-af7b-43367eb12fc6",
   "metadata": {},
   "outputs": [],
   "source": [
    "customA.clear()\n",
    "customB.clear()\n",
    "customC.clear()\n",
    "customA.send_keys([\"12\"])\n",
    "customB.send_keys(\"4\")\n",
    "customC.send_keys(\"2\")"
   ]
  },
  {
   "cell_type": "code",
   "execution_count": 4,
   "id": "fd652e28-6802-423c-9d19-5d1e9fe85d69",
   "metadata": {},
   "outputs": [],
   "source": [
    "customButton = driver.find_element(\"id\", \"customButton\")"
   ]
  },
  {
   "cell_type": "code",
   "execution_count": 5,
   "id": "cb758e67-c856-4492-aa91-cd6c0e24a7a0",
   "metadata": {},
   "outputs": [],
   "source": [
    "customButton.click()"
   ]
  },
  {
   "cell_type": "code",
   "execution_count": 6,
   "id": "715465cf-3e0d-4b31-a59d-ef7a027c6dec",
   "metadata": {},
   "outputs": [],
   "source": [
    "customAnswer = driver.find_element(\"id\", \"customAnswer\")"
   ]
  },
  {
   "cell_type": "code",
   "execution_count": 7,
   "id": "7f8b2baf-e567-4e7c-af39-5cf104e4d5bb",
   "metadata": {},
   "outputs": [
    {
     "data": {
      "text/plain": [
       "2"
      ]
     },
     "execution_count": 7,
     "metadata": {},
     "output_type": "execute_result"
    }
   ],
   "source": [
    "int(customAnswer.text)"
   ]
  },
  {
   "cell_type": "code",
   "execution_count": 22,
   "id": "9edf9744-2b60-45f7-a2c7-836bb8856d20",
   "metadata": {},
   "outputs": [],
   "source": [
    "test_case = [\n",
    "    {\n",
    "        \"A\" : 12,\n",
    "        \n",
    "        \"B\" : 4,\n",
    "        \n",
    "        \"C\" : 2,\n",
    "        \"result\" : 2   \n",
    "    },\n",
    "    \n",
    "    {\n",
    "    \"A\" : 4,\n",
    "        \n",
    "    \"B\" : 2, \n",
    "        \n",
    "    \"C\" : 8,\n",
    "        \n",
    "    \"result\" : 2\n",
    "        \n",
    "    },\n",
    "    \n",
    "    {\n",
    "    \"A\" : 13,\n",
    "        \n",
    "    \"B\" : 19,\n",
    "        \n",
    "    \"C\" : 14,\n",
    "        \n",
    "    \"result\" : 1   \n",
    "    },\n",
    "    \n",
    "     {\n",
    "    \"A\" : 10,\n",
    "        \n",
    "    \"B\" : 12,\n",
    "        \n",
    "    \"C\" : 14,\n",
    "        \n",
    "    \"result\" : 1   \n",
    "    }\n",
    "\n",
    "\n",
    "\n",
    "\n",
    "\n",
    "]"
   ]
  },
  {
   "cell_type": "code",
   "execution_count": 23,
   "id": "519e5cc4-cb29-4e46-8fd0-2d369d031feb",
   "metadata": {},
   "outputs": [
    {
     "name": "stdout",
     "output_type": "stream",
     "text": [
      "pass\n",
      "pass\n",
      "pass\n",
      "fail\n",
      "{'A': 10, 'B': 12, 'C': 14, 'result': 1}\n"
     ]
    }
   ],
   "source": [
    "for i in test_case:\n",
    "    customA.clear()\n",
    "    customB.clear()\n",
    "    customC.clear()\n",
    "    customA.send_keys(i[\"A\"])\n",
    "    customB.send_keys(i[\"B\"])\n",
    "    customC.send_keys(i[\"C\"])\n",
    "    customButton.click()\n",
    "    if(int(customAnswer.text) == i['result']):\n",
    "        print(\"pass\")\n",
    "    else:\n",
    "        print(\"fail\")\n",
    "        print(i)\n",
    "    "
   ]
  },
  {
   "cell_type": "code",
   "execution_count": null,
   "id": "f831626b-c390-469e-944d-16fe2f9a6891",
   "metadata": {},
   "outputs": [],
   "source": []
  }
 ],
 "metadata": {
  "kernelspec": {
   "display_name": "selenium",
   "language": "python",
   "name": "selenium"
  },
  "language_info": {
   "codemirror_mode": {
    "name": "ipython",
    "version": 3
   },
   "file_extension": ".py",
   "mimetype": "text/x-python",
   "name": "python",
   "nbconvert_exporter": "python",
   "pygments_lexer": "ipython3",
   "version": "3.11.0"
  }
 },
 "nbformat": 4,
 "nbformat_minor": 5
}

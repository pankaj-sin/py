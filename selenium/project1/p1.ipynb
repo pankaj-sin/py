{
 "cells": [
  {
   "cell_type": "code",
   "execution_count": 22,
   "id": "ce02ed7e-eace-4552-9021-a36f216e04c3",
   "metadata": {},
   "outputs": [],
   "source": [
    "from selenium import webdriver  \n",
    "import time  \n",
    "from selenium.webdriver.common.keys import Keys  \n",
    "\n",
    "driver = webdriver.Firefox()  "
   ]
  },
  {
   "cell_type": "code",
   "execution_count": 23,
   "id": "355935bb-b0ea-4703-bb80-83241d0bfff9",
   "metadata": {},
   "outputs": [],
   "source": [
    "driver.get('https://survival8.blogspot.com/2022/11/lcm-of-two-numbers.html')"
   ]
  },
  {
   "cell_type": "code",
   "execution_count": 24,
   "id": "f8d0b60d-3446-4b50-8702-2971d80f3d5a",
   "metadata": {},
   "outputs": [],
   "source": [
    "customA = driver.find_element(\"id\", \"customA\")\n",
    "customB = driver.find_element(\"id\", \"customB\")"
   ]
  },
  {
   "cell_type": "code",
   "execution_count": 28,
   "id": "43bf71ec-c3d5-461d-9510-d844f899f0ed",
   "metadata": {},
   "outputs": [],
   "source": [
    "customA.clear()\n",
    "customB.clear()\n",
    "customA.send_keys(\"12\")\n",
    "customB.send_keys(\"4\")"
   ]
  },
  {
   "cell_type": "code",
   "execution_count": 29,
   "id": "9e834c44-aacd-49df-9506-0cd9a985b45f",
   "metadata": {},
   "outputs": [],
   "source": [
    "customButton = driver.find_element(\"id\", \"customButton\")"
   ]
  },
  {
   "cell_type": "code",
   "execution_count": 30,
   "id": "a76a3297-baae-460a-95df-342083ab7ad6",
   "metadata": {},
   "outputs": [],
   "source": [
    "customButton.click()"
   ]
  },
  {
   "cell_type": "code",
   "execution_count": 31,
   "id": "7631ac9b-ce9b-4d7d-a864-452d683ce203",
   "metadata": {},
   "outputs": [],
   "source": [
    "customAnswer = driver.find_element(\"id\", \"customAnswer\")"
   ]
  },
  {
   "cell_type": "code",
   "execution_count": 32,
   "id": "7e8ab3d0-28c4-4886-aa25-b22c332640af",
   "metadata": {},
   "outputs": [
    {
     "data": {
      "text/plain": [
       "12"
      ]
     },
     "execution_count": 32,
     "metadata": {},
     "output_type": "execute_result"
    }
   ],
   "source": [
    "int(customAnswer.text)"
   ]
  },
  {
   "cell_type": "code",
   "execution_count": 33,
   "id": "41cba0ca-78f2-42d9-9f93-811b6d7c7a4f",
   "metadata": {},
   "outputs": [],
   "source": [
    "test_cases = [\n",
    "    {\n",
    "        \"A\": 12,\n",
    "        \"B\": 4,\n",
    "        \"Ans\": 12\n",
    "    },\n",
    "    \n",
    "    {\n",
    "        \"A\": 48,\n",
    "        \"B\": 12,\n",
    "        \"Ans\": 48\n",
    "    },\n",
    "    \n",
    "    {\n",
    "        \"A\": 98,\n",
    "        \"B\": 7,\n",
    "        \"Ans\": 98\n",
    "    },\n",
    "    \n",
    "    {\n",
    "        \"A\": 1,\n",
    "        \"B\": 2,\n",
    "        \"Ans\": 3\n",
    "    }\n",
    "]"
   ]
  },
  {
   "cell_type": "code",
   "execution_count": 34,
   "id": "23e5ee87-ee76-4e52-b4bf-a72978da0afb",
   "metadata": {},
   "outputs": [
    {
     "name": "stdout",
     "output_type": "stream",
     "text": [
      "Pass\n",
      "Pass\n",
      "Pass\n",
      "Fail\n",
      "{'A': 1, 'B': 2, 'Ans': 3}\n"
     ]
    }
   ],
   "source": [
    "for i in test_cases:\n",
    "    customA.clear()\n",
    "    customB.clear()\n",
    "    customA.send_keys(i[\"A\"])\n",
    "    customB.send_keys(i[\"B\"])\n",
    "    customButton.click()\n",
    "    if(int(customAnswer.text) == i['Ans']):\n",
    "        print(\"Pass\")\n",
    "    else:\n",
    "        print(\"Fail\")\n",
    "        print(i)\n",
    "    "
   ]
  },
  {
   "cell_type": "code",
   "execution_count": null,
   "id": "9d7f351e-b72d-4db5-b15b-aaaea42fc27a",
   "metadata": {},
   "outputs": [],
   "source": []
  }
 ],
 "metadata": {
  "kernelspec": {
   "display_name": "selenium",
   "language": "python",
   "name": "selenium"
  },
  "language_info": {
   "codemirror_mode": {
    "name": "ipython",
    "version": 3
   },
   "file_extension": ".py",
   "mimetype": "text/x-python",
   "name": "python",
   "nbconvert_exporter": "python",
   "pygments_lexer": "ipython3",
   "version": "3.11.0"
  }
 },
 "nbformat": 4,
 "nbformat_minor": 5
}
